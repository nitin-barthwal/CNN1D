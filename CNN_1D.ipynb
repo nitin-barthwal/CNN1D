{
  "nbformat": 4,
  "nbformat_minor": 0,
  "metadata": {
    "colab": {
      "name": "CNN-1D.ipynb",
      "provenance": [],
      "collapsed_sections": [],
      "authorship_tag": "ABX9TyOIfz5VbH+B412CJ/ezTVkv",
      "include_colab_link": true
    },
    "kernelspec": {
      "name": "python3",
      "display_name": "Python 3"
    },
    "accelerator": "GPU"
  },
  "cells": [
    {
      "cell_type": "markdown",
      "metadata": {
        "id": "view-in-github",
        "colab_type": "text"
      },
      "source": [
        "<a href=\"https://colab.research.google.com/github/nitin-barthwal/CNN1D/blob/master/CNN_1D.ipynb\" target=\"_parent\"><img src=\"https://colab.research.google.com/assets/colab-badge.svg\" alt=\"Open In Colab\"/></a>"
      ]
    },
    {
      "cell_type": "code",
      "metadata": {
        "id": "CC41M0oDroKJ",
        "colab_type": "code",
        "colab": {
          "base_uri": "https://localhost:8080/",
          "height": 17
        },
        "outputId": "ce9523b0-8b73-4998-b5c5-62040219a15b"
      },
      "source": [
        "\n",
        "import torch\n",
        "from torch import nn\n",
        "import torch.nn.functional as F\n",
        "import numpy as np\n",
        "import matplotlib.pyplot as plt\n",
        "%matplotlib inline\n",
        "import pandas as pd\n",
        "import plotly\n",
        "import plotly.express as px\n",
        "from datetime import datetime,timedelta\n",
        "from sklearn.preprocessing import MinMaxScaler\n",
        "import math\n",
        "from sklearn.metrics import mean_squared_error,  mean_absolute_error\n",
        "from sklearn.preprocessing import StandardScaler\n",
        "\n",
        "import tensorflow as tf\n",
        "from keras.models import Sequential, load_model\n",
        "from keras.layers import Dense, Flatten, Dropout, Reshape\n",
        "from keras.layers.convolutional import Conv1D, MaxPooling1D\n",
        "from keras.utils import to_categorical\n",
        "#from keras.utils import plot_model\n",
        "from keras.utils.vis_utils import plot_model\n",
        "from keras import backend\n",
        "import keras\n",
        "#from keras.layers.core import Dense, Activation, Dropout\n",
        "\n",
        "\n",
        "from keras.callbacks import ModelCheckpoint\n",
        "from keras.optimizers import Adam\n",
        "import warnings\n",
        "warnings.filterwarnings(\"ignore\")\n",
        "\n",
        "import plotly.graph_objs as go\n",
        "plotly.offline.init_notebook_mode(connected=True)"
      ],
      "execution_count": 24,
      "outputs": [
        {
          "output_type": "display_data",
          "data": {
            "text/html": [
              "        <script type=\"text/javascript\">\n",
              "        window.PlotlyConfig = {MathJaxConfig: 'local'};\n",
              "        if (window.MathJax) {MathJax.Hub.Config({SVG: {font: \"STIX-Web\"}});}\n",
              "        if (typeof require !== 'undefined') {\n",
              "        require.undef(\"plotly\");\n",
              "        requirejs.config({\n",
              "            paths: {\n",
              "                'plotly': ['https://cdn.plot.ly/plotly-latest.min']\n",
              "            }\n",
              "        });\n",
              "        require(['plotly'], function(Plotly) {\n",
              "            window._Plotly = Plotly;\n",
              "        });\n",
              "        }\n",
              "        </script>\n",
              "        "
            ]
          },
          "metadata": {
            "tags": []
          }
        }
      ]
    },
    {
      "cell_type": "code",
      "metadata": {
        "id": "3mzwtEO4ruFJ",
        "colab_type": "code",
        "colab": {
          "base_uri": "https://localhost:8080/",
          "height": 374
        },
        "outputId": "0d8c9863-5404-4eaf-d09c-2c438c5fb22d"
      },
      "source": [
        "url = 'https://raw.githubusercontent.com/nitin-barthwal/CNN1D/master/dataset.csv'\n",
        "rescaled = pd.read_csv(url)\n",
        "print('Shape : ',rescaled.shape)\n",
        "rescaled.sample(10)"
      ],
      "execution_count": 29,
      "outputs": [
        {
          "output_type": "stream",
          "text": [
            "Shape :  (177126, 2)\n"
          ],
          "name": "stdout"
        },
        {
          "output_type": "execute_result",
          "data": {
            "text/html": [
              "<div>\n",
              "<style scoped>\n",
              "    .dataframe tbody tr th:only-of-type {\n",
              "        vertical-align: middle;\n",
              "    }\n",
              "\n",
              "    .dataframe tbody tr th {\n",
              "        vertical-align: top;\n",
              "    }\n",
              "\n",
              "    .dataframe thead th {\n",
              "        text-align: right;\n",
              "    }\n",
              "</style>\n",
              "<table border=\"1\" class=\"dataframe\">\n",
              "  <thead>\n",
              "    <tr style=\"text-align: right;\">\n",
              "      <th></th>\n",
              "      <th>Input</th>\n",
              "      <th>Output</th>\n",
              "    </tr>\n",
              "  </thead>\n",
              "  <tbody>\n",
              "    <tr>\n",
              "      <th>146532</th>\n",
              "      <td>0.014218</td>\n",
              "      <td>0.081833</td>\n",
              "    </tr>\n",
              "    <tr>\n",
              "      <th>92497</th>\n",
              "      <td>0.013744</td>\n",
              "      <td>0.047393</td>\n",
              "    </tr>\n",
              "    <tr>\n",
              "      <th>69124</th>\n",
              "      <td>0.000000</td>\n",
              "      <td>0.055608</td>\n",
              "    </tr>\n",
              "    <tr>\n",
              "      <th>25474</th>\n",
              "      <td>0.000000</td>\n",
              "      <td>0.065719</td>\n",
              "    </tr>\n",
              "    <tr>\n",
              "      <th>172851</th>\n",
              "      <td>0.013586</td>\n",
              "      <td>0.066667</td>\n",
              "    </tr>\n",
              "    <tr>\n",
              "      <th>110577</th>\n",
              "      <td>0.000000</td>\n",
              "      <td>0.395261</td>\n",
              "    </tr>\n",
              "    <tr>\n",
              "      <th>1870</th>\n",
              "      <td>0.000000</td>\n",
              "      <td>0.043444</td>\n",
              "    </tr>\n",
              "    <tr>\n",
              "      <th>67892</th>\n",
              "      <td>0.014534</td>\n",
              "      <td>0.076145</td>\n",
              "    </tr>\n",
              "    <tr>\n",
              "      <th>143887</th>\n",
              "      <td>0.000000</td>\n",
              "      <td>0.051817</td>\n",
              "    </tr>\n",
              "    <tr>\n",
              "      <th>82644</th>\n",
              "      <td>0.038547</td>\n",
              "      <td>0.091153</td>\n",
              "    </tr>\n",
              "  </tbody>\n",
              "</table>\n",
              "</div>"
            ],
            "text/plain": [
              "           Input    Output\n",
              "146532  0.014218  0.081833\n",
              "92497   0.013744  0.047393\n",
              "69124   0.000000  0.055608\n",
              "25474   0.000000  0.065719\n",
              "172851  0.013586  0.066667\n",
              "110577  0.000000  0.395261\n",
              "1870    0.000000  0.043444\n",
              "67892   0.014534  0.076145\n",
              "143887  0.000000  0.051817\n",
              "82644   0.038547  0.091153"
            ]
          },
          "metadata": {
            "tags": []
          },
          "execution_count": 29
        }
      ]
    },
    {
      "cell_type": "code",
      "metadata": {
        "id": "MMZgmZ4LruIR",
        "colab_type": "code",
        "colab": {}
      },
      "source": [
        ""
      ],
      "execution_count": 25,
      "outputs": []
    },
    {
      "cell_type": "code",
      "metadata": {
        "id": "TEQce2N5ruLp",
        "colab_type": "code",
        "colab": {
          "base_uri": "https://localhost:8080/",
          "height": 52
        },
        "outputId": "384a3977-3782-49b6-97b4-7e54583d8dc0"
      },
      "source": [
        "\n",
        "def Reshape_data(df, time_steps, step):\n",
        "    '''\n",
        "    time_steps is the number of observations that I have in a sample \n",
        "    steps is the number with which I am shifting or advancing to create a new sample. \n",
        "    for eg if data is [ 1,2,3,4,5,6,7,8,9,10,11,12] with time steps = 5 and step=3 then \n",
        "    sample 1: [1,2,3,4,5]\n",
        "    sample 2: [4,5,6,7,8] \n",
        "    sample 3: [7,8,9,10,11]\n",
        "    '''\n",
        "        \n",
        "    N_FEATURES = 1   # As i have only one input feature\n",
        "    segments = []\n",
        "    output_segments = []\n",
        "    labels = []\n",
        "    for i in range(0, len(df) - time_steps, step):\n",
        "        sensor_load = df['Input'].values[i: i + time_steps]\n",
        "        segments.append([sensor_load])\n",
        "        output= df['Output'].values[i: i + time_steps]\n",
        "        output_segments.append([output])\n",
        "    # Reshaping\n",
        "    reshaped_segments = np.asarray(segments, dtype= np.float32).reshape(-1, time_steps, N_FEATURES)\n",
        "    output_segments = np.asarray(output_segments, dtype= np.float32).reshape(-1, time_steps, N_FEATURES)\n",
        "    return reshaped_segments, output_segments\n",
        "\n",
        "TIME_PERIODS= 600\n",
        "\n",
        "STEP_DISTANCE = 1 # Shifting just 1 observation\n",
        "\n",
        "x_train,y_train = Reshape_data(rescaled, TIME_PERIODS, STEP_DISTANCE )\n",
        "print('x_train.shape : ',x_train.shape)\n",
        "print('y_train.shape : ',y_train.shape)"
      ],
      "execution_count": 30,
      "outputs": [
        {
          "output_type": "stream",
          "text": [
            "x_train.shape :  (176526, 600, 1)\n",
            "y_train.shape :  (176526, 600, 1)\n"
          ],
          "name": "stdout"
        }
      ]
    },
    {
      "cell_type": "code",
      "metadata": {
        "id": "2g-Lv79fruSJ",
        "colab_type": "code",
        "colab": {
          "base_uri": "https://localhost:8080/",
          "height": 879
        },
        "outputId": "ed988d5c-c378-4a79-bc6b-f1a9e81597f2"
      },
      "source": [
        "x_train"
      ],
      "execution_count": 31,
      "outputs": [
        {
          "output_type": "execute_result",
          "data": {
            "text/plain": [
              "array([[[0.        ],\n",
              "        [0.        ],\n",
              "        [0.        ],\n",
              "        ...,\n",
              "        [0.        ],\n",
              "        [0.        ],\n",
              "        [0.        ]],\n",
              "\n",
              "       [[0.        ],\n",
              "        [0.        ],\n",
              "        [0.        ],\n",
              "        ...,\n",
              "        [0.        ],\n",
              "        [0.        ],\n",
              "        [0.        ]],\n",
              "\n",
              "       [[0.        ],\n",
              "        [0.        ],\n",
              "        [0.        ],\n",
              "        ...,\n",
              "        [0.        ],\n",
              "        [0.        ],\n",
              "        [0.        ]],\n",
              "\n",
              "       ...,\n",
              "\n",
              "       [[0.01406003],\n",
              "        [0.01406003],\n",
              "        [0.01406003],\n",
              "        ...,\n",
              "        [0.        ],\n",
              "        [0.        ],\n",
              "        [0.        ]],\n",
              "\n",
              "       [[0.01406003],\n",
              "        [0.01406003],\n",
              "        [0.01406003],\n",
              "        ...,\n",
              "        [0.        ],\n",
              "        [0.        ],\n",
              "        [0.        ]],\n",
              "\n",
              "       [[0.01406003],\n",
              "        [0.01406003],\n",
              "        [0.01406003],\n",
              "        ...,\n",
              "        [0.        ],\n",
              "        [0.        ],\n",
              "        [0.        ]]], dtype=float32)"
            ]
          },
          "metadata": {
            "tags": []
          },
          "execution_count": 31
        }
      ]
    },
    {
      "cell_type": "code",
      "metadata": {
        "id": "g0GQX3sfruVZ",
        "colab_type": "code",
        "colab": {
          "base_uri": "https://localhost:8080/",
          "height": 879
        },
        "outputId": "898b2fec-80da-4d28-bd0a-49f9de7e6e2c"
      },
      "source": [
        "y_train"
      ],
      "execution_count": 32,
      "outputs": [
        {
          "output_type": "execute_result",
          "data": {
            "text/plain": [
              "array([[[0.0436019 ],\n",
              "        [0.0436019 ],\n",
              "        [0.04375987],\n",
              "        ...,\n",
              "        [0.04881516],\n",
              "        [0.04881516],\n",
              "        [0.04818325]],\n",
              "\n",
              "       [[0.0436019 ],\n",
              "        [0.04375987],\n",
              "        [0.04423381],\n",
              "        ...,\n",
              "        [0.04881516],\n",
              "        [0.04818325],\n",
              "        [0.04818325]],\n",
              "\n",
              "       [[0.04375987],\n",
              "        [0.04423381],\n",
              "        [0.04375987],\n",
              "        ...,\n",
              "        [0.04818325],\n",
              "        [0.04818325],\n",
              "        [0.04818325]],\n",
              "\n",
              "       ...,\n",
              "\n",
              "       [[0.06018957],\n",
              "        [0.06018957],\n",
              "        [0.06097946],\n",
              "        ...,\n",
              "        [0.10537125],\n",
              "        [0.10837283],\n",
              "        [0.10837283]],\n",
              "\n",
              "       [[0.06018957],\n",
              "        [0.06097946],\n",
              "        [0.06097946],\n",
              "        ...,\n",
              "        [0.10837283],\n",
              "        [0.10837283],\n",
              "        [0.10537125]],\n",
              "\n",
              "       [[0.06097946],\n",
              "        [0.06097946],\n",
              "        [0.06050553],\n",
              "        ...,\n",
              "        [0.10837283],\n",
              "        [0.10537125],\n",
              "        [0.10537125]]], dtype=float32)"
            ]
          },
          "metadata": {
            "tags": []
          },
          "execution_count": 32
        }
      ]
    },
    {
      "cell_type": "code",
      "metadata": {
        "id": "E9fTtsQuvBBX",
        "colab_type": "code",
        "colab": {
          "base_uri": "https://localhost:8080/",
          "height": 52
        },
        "outputId": "1b3eb488-e798-403a-c15f-0a2e7b77084b"
      },
      "source": [
        "num_time_periods, n_features = x_train.shape[1], x_train.shape[2]\n",
        "\n",
        "input_shape = (num_time_periods*n_features)\n",
        "x_train = x_train.reshape(x_train.shape[0], input_shape)\n",
        "\n",
        "print('x_train shape:', x_train.shape)\n",
        "print('input_shape:', input_shape)"
      ],
      "execution_count": 33,
      "outputs": [
        {
          "output_type": "stream",
          "text": [
            "x_train shape: (176526, 600)\n",
            "input_shape: 600\n"
          ],
          "name": "stdout"
        }
      ]
    },
    {
      "cell_type": "code",
      "metadata": {
        "id": "Pc0oOc_NxwIl",
        "colab_type": "code",
        "colab": {
          "base_uri": "https://localhost:8080/",
          "height": 246
        },
        "outputId": "7a065fc9-a694-40d6-fb74-46f339992841"
      },
      "source": [
        "x_train"
      ],
      "execution_count": 34,
      "outputs": [
        {
          "output_type": "execute_result",
          "data": {
            "text/plain": [
              "array([[0.        , 0.        , 0.        , ..., 0.        , 0.        ,\n",
              "        0.        ],\n",
              "       [0.        , 0.        , 0.        , ..., 0.        , 0.        ,\n",
              "        0.        ],\n",
              "       [0.        , 0.        , 0.        , ..., 0.        , 0.        ,\n",
              "        0.        ],\n",
              "       ...,\n",
              "       [0.01406003, 0.01406003, 0.01406003, ..., 0.        , 0.        ,\n",
              "        0.        ],\n",
              "       [0.01406003, 0.01406003, 0.01406003, ..., 0.        , 0.        ,\n",
              "        0.        ],\n",
              "       [0.01406003, 0.01406003, 0.01406003, ..., 0.        , 0.        ,\n",
              "        0.        ]], dtype=float32)"
            ]
          },
          "metadata": {
            "tags": []
          },
          "execution_count": 34
        }
      ]
    },
    {
      "cell_type": "code",
      "metadata": {
        "id": "NZfcVThJvPM0",
        "colab_type": "code",
        "colab": {
          "base_uri": "https://localhost:8080/",
          "height": 580
        },
        "outputId": "55a37d79-92ad-4439-8906-753c094cd21b"
      },
      "source": [
        " \n",
        "def create_model(n_timesteps, n_features,n_outputs):\n",
        "    '''Creates and returns the ShortSeq2Point Network\n",
        "    '''\n",
        "    model = Sequential()\n",
        "\n",
        "    # 1D Conv\n",
        "    model.add(Conv1D(filters=30, kernel_size=10, activation='relu', input_shape=(n_timesteps, n_features), padding=\"same\", strides=1))\n",
        "    model.add(Dropout(0.5))\n",
        "    model.add(Conv1D(filters=30, kernel_size=8, activation='relu', padding=\"same\", strides=1))\n",
        "    model.add(Dropout(0.5))\n",
        "    model.add(Conv1D(filters=40, kernel_size=6, activation='relu', padding=\"same\", strides=1))\n",
        "    model.add(Dropout(0.5))\n",
        "    model.add(Conv1D(filters=50, kernel_size=5, activation='relu', padding=\"same\", strides=1))\n",
        "    model.add(Dropout(0.5))\n",
        "    # Fully Connected Layers\n",
        "    model.add(Flatten())\n",
        "    model.add(Dense(1024, activation='relu'))\n",
        "    model.add(Dropout(0.5))\n",
        "    model.add(Dense(n_outputs, activation='linear'))\n",
        "\n",
        "    model.compile(loss='mse', optimizer='adam')\n",
        "    #plot_model(model, to_file='model.png', show_shapes=True)\n",
        "\n",
        "    return model\n",
        "\n",
        "#n_timesteps, n_features, n_outputs = x_train.shape[1], x_train.shape[2], y_train.shape[1]\n",
        "n_outputs=y_train.shape[1]\n",
        "# create model\n",
        "model = create_model(num_time_periods, n_features,n_outputs)\n",
        "model.summary()"
      ],
      "execution_count": 35,
      "outputs": [
        {
          "output_type": "stream",
          "text": [
            "Model: \"sequential_6\"\n",
            "_________________________________________________________________\n",
            "Layer (type)                 Output Shape              Param #   \n",
            "=================================================================\n",
            "conv1d_18 (Conv1D)           (None, 600, 30)           330       \n",
            "_________________________________________________________________\n",
            "dropout_20 (Dropout)         (None, 600, 30)           0         \n",
            "_________________________________________________________________\n",
            "conv1d_19 (Conv1D)           (None, 600, 30)           7230      \n",
            "_________________________________________________________________\n",
            "dropout_21 (Dropout)         (None, 600, 30)           0         \n",
            "_________________________________________________________________\n",
            "conv1d_20 (Conv1D)           (None, 600, 40)           7240      \n",
            "_________________________________________________________________\n",
            "dropout_22 (Dropout)         (None, 600, 40)           0         \n",
            "_________________________________________________________________\n",
            "conv1d_21 (Conv1D)           (None, 600, 50)           10050     \n",
            "_________________________________________________________________\n",
            "dropout_23 (Dropout)         (None, 600, 50)           0         \n",
            "_________________________________________________________________\n",
            "flatten_5 (Flatten)          (None, 30000)             0         \n",
            "_________________________________________________________________\n",
            "dense_8 (Dense)              (None, 1024)              30721024  \n",
            "_________________________________________________________________\n",
            "dropout_24 (Dropout)         (None, 1024)              0         \n",
            "_________________________________________________________________\n",
            "dense_9 (Dense)              (None, 600)               615000    \n",
            "=================================================================\n",
            "Total params: 31,360,874\n",
            "Trainable params: 31,360,874\n",
            "Non-trainable params: 0\n",
            "_________________________________________________________________\n"
          ],
          "name": "stdout"
        }
      ]
    },
    {
      "cell_type": "code",
      "metadata": {
        "id": "kF8OoX8UymED",
        "colab_type": "code",
        "colab": {
          "base_uri": "https://localhost:8080/",
          "height": 350
        },
        "outputId": "0bbe40ac-ff62-40e0-be4f-ef18d5957953"
      },
      "source": [
        "callbacks_list = [\n",
        "    keras.callbacks.ModelCheckpoint(\n",
        "        filepath='best_model.{epoch:02d}-{val_loss:.2f}.h5',\n",
        "        monitor='val_loss', save_best_only=True),\n",
        "    keras.callbacks.EarlyStopping(monitor='acc', patience=1)\n",
        "]\n",
        "\n",
        "model.compile(loss='mse',\n",
        "                optimizer='adam', metrics=['mse'])\n",
        "\n",
        "# Hyper-parameters\n",
        "BATCH_SIZE = 400\n",
        "EPOCHS = 1\n",
        "\n",
        "# Enable validation to use ModelCheckpoint and EarlyStopping callbacks.\n",
        "history = model.fit(x_train,\n",
        "                      y_train,\n",
        "                      batch_size=BATCH_SIZE,\n",
        "                      epochs=EPOCHS,\n",
        "                      #callbacks=callbacks_list,\n",
        "                      validation_split=0.2,\n",
        "                      verbose=1)"
      ],
      "execution_count": 36,
      "outputs": [
        {
          "output_type": "error",
          "ename": "ValueError",
          "evalue": "ignored",
          "traceback": [
            "\u001b[0;31m---------------------------------------------------------------------------\u001b[0m",
            "\u001b[0;31mValueError\u001b[0m                                Traceback (most recent call last)",
            "\u001b[0;32m<ipython-input-36-51b17588b901>\u001b[0m in \u001b[0;36m<module>\u001b[0;34m()\u001b[0m\n\u001b[1;32m     20\u001b[0m                       \u001b[0;31m#callbacks=callbacks_list,\u001b[0m\u001b[0;34m\u001b[0m\u001b[0;34m\u001b[0m\u001b[0;34m\u001b[0m\u001b[0m\n\u001b[1;32m     21\u001b[0m                       \u001b[0mvalidation_split\u001b[0m\u001b[0;34m=\u001b[0m\u001b[0;36m0.2\u001b[0m\u001b[0;34m,\u001b[0m\u001b[0;34m\u001b[0m\u001b[0;34m\u001b[0m\u001b[0m\n\u001b[0;32m---> 22\u001b[0;31m                       verbose=1)\n\u001b[0m",
            "\u001b[0;32m/usr/local/lib/python3.6/dist-packages/keras/engine/training.py\u001b[0m in \u001b[0;36mfit\u001b[0;34m(self, x, y, batch_size, epochs, verbose, callbacks, validation_split, validation_data, shuffle, class_weight, sample_weight, initial_epoch, steps_per_epoch, validation_steps, validation_freq, max_queue_size, workers, use_multiprocessing, **kwargs)\u001b[0m\n\u001b[1;32m   1152\u001b[0m             \u001b[0msample_weight\u001b[0m\u001b[0;34m=\u001b[0m\u001b[0msample_weight\u001b[0m\u001b[0;34m,\u001b[0m\u001b[0;34m\u001b[0m\u001b[0;34m\u001b[0m\u001b[0m\n\u001b[1;32m   1153\u001b[0m             \u001b[0mclass_weight\u001b[0m\u001b[0;34m=\u001b[0m\u001b[0mclass_weight\u001b[0m\u001b[0;34m,\u001b[0m\u001b[0;34m\u001b[0m\u001b[0;34m\u001b[0m\u001b[0m\n\u001b[0;32m-> 1154\u001b[0;31m             batch_size=batch_size)\n\u001b[0m\u001b[1;32m   1155\u001b[0m \u001b[0;34m\u001b[0m\u001b[0m\n\u001b[1;32m   1156\u001b[0m         \u001b[0;31m# Prepare validation data.\u001b[0m\u001b[0;34m\u001b[0m\u001b[0;34m\u001b[0m\u001b[0;34m\u001b[0m\u001b[0m\n",
            "\u001b[0;32m/usr/local/lib/python3.6/dist-packages/keras/engine/training.py\u001b[0m in \u001b[0;36m_standardize_user_data\u001b[0;34m(self, x, y, sample_weight, class_weight, check_array_lengths, batch_size)\u001b[0m\n\u001b[1;32m    577\u001b[0m             \u001b[0mfeed_input_shapes\u001b[0m\u001b[0;34m,\u001b[0m\u001b[0;34m\u001b[0m\u001b[0;34m\u001b[0m\u001b[0m\n\u001b[1;32m    578\u001b[0m             \u001b[0mcheck_batch_axis\u001b[0m\u001b[0;34m=\u001b[0m\u001b[0;32mFalse\u001b[0m\u001b[0;34m,\u001b[0m  \u001b[0;31m# Don't enforce the batch size.\u001b[0m\u001b[0;34m\u001b[0m\u001b[0;34m\u001b[0m\u001b[0m\n\u001b[0;32m--> 579\u001b[0;31m             exception_prefix='input')\n\u001b[0m\u001b[1;32m    580\u001b[0m \u001b[0;34m\u001b[0m\u001b[0m\n\u001b[1;32m    581\u001b[0m         \u001b[0;32mif\u001b[0m \u001b[0my\u001b[0m \u001b[0;32mis\u001b[0m \u001b[0;32mnot\u001b[0m \u001b[0;32mNone\u001b[0m\u001b[0;34m:\u001b[0m\u001b[0;34m\u001b[0m\u001b[0;34m\u001b[0m\u001b[0m\n",
            "\u001b[0;32m/usr/local/lib/python3.6/dist-packages/keras/engine/training_utils.py\u001b[0m in \u001b[0;36mstandardize_input_data\u001b[0;34m(data, names, shapes, check_batch_axis, exception_prefix)\u001b[0m\n\u001b[1;32m    133\u001b[0m                         \u001b[0;34m': expected '\u001b[0m \u001b[0;34m+\u001b[0m \u001b[0mnames\u001b[0m\u001b[0;34m[\u001b[0m\u001b[0mi\u001b[0m\u001b[0;34m]\u001b[0m \u001b[0;34m+\u001b[0m \u001b[0;34m' to have '\u001b[0m \u001b[0;34m+\u001b[0m\u001b[0;34m\u001b[0m\u001b[0;34m\u001b[0m\u001b[0m\n\u001b[1;32m    134\u001b[0m                         \u001b[0mstr\u001b[0m\u001b[0;34m(\u001b[0m\u001b[0mlen\u001b[0m\u001b[0;34m(\u001b[0m\u001b[0mshape\u001b[0m\u001b[0;34m)\u001b[0m\u001b[0;34m)\u001b[0m \u001b[0;34m+\u001b[0m \u001b[0;34m' dimensions, but got array '\u001b[0m\u001b[0;34m\u001b[0m\u001b[0;34m\u001b[0m\u001b[0m\n\u001b[0;32m--> 135\u001b[0;31m                         'with shape ' + str(data_shape))\n\u001b[0m\u001b[1;32m    136\u001b[0m                 \u001b[0;32mif\u001b[0m \u001b[0;32mnot\u001b[0m \u001b[0mcheck_batch_axis\u001b[0m\u001b[0;34m:\u001b[0m\u001b[0;34m\u001b[0m\u001b[0;34m\u001b[0m\u001b[0m\n\u001b[1;32m    137\u001b[0m                     \u001b[0mdata_shape\u001b[0m \u001b[0;34m=\u001b[0m \u001b[0mdata_shape\u001b[0m\u001b[0;34m[\u001b[0m\u001b[0;36m1\u001b[0m\u001b[0;34m:\u001b[0m\u001b[0;34m]\u001b[0m\u001b[0;34m\u001b[0m\u001b[0;34m\u001b[0m\u001b[0m\n",
            "\u001b[0;31mValueError\u001b[0m: Error when checking input: expected conv1d_18_input to have 3 dimensions, but got array with shape (176526, 600)"
          ]
        }
      ]
    },
    {
      "cell_type": "code",
      "metadata": {
        "id": "ZPBdZdgkyvTo",
        "colab_type": "code",
        "colab": {}
      },
      "source": [
        ""
      ],
      "execution_count": 36,
      "outputs": []
    }
  ]
}